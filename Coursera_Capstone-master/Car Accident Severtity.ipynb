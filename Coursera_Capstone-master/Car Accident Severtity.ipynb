{
 "cells": [
  {
   "cell_type": "markdown",
   "metadata": {},
   "source": [
    "<img src=\"https://womenhack.com/wp-content/uploads/2017/04/city-of-seattle-banner-1378504786902.png\" alt=\"HTML5 Icon\" width=\"960\" height=\"960\">"
   ]
  },
  {
   "cell_type": "markdown",
   "metadata": {},
   "source": [
    "-----------------------------------------------------------------------------------------------------------------------------------------------------------------------------------------"
   ]
  },
  {
   "cell_type": "markdown",
   "metadata": {},
   "source": [
    " <font size=\"+3\"><center> <B> A Predictive Model on Car Accident Severity </B> </center> </font>\n",
    "\n",
    "<font size=\"+2\"><B> Background </B></font>\n",
    "\n",
    "<font size=\"+1\"><I> Business Problem </I></font>\n",
    "\n",
    "Seattle is a rapidly growing metropolis nested in the heart of Puget Sound. Characteristic of most large cities, Seattle's building and transit infrastructure has struggled to keep pace with the city's unprecendented international appeal. On a typical Monday morning, droves of automobiles saturate I-5 and other major highways. Bumper-to-bumper traffic leaves early commuters with their feet perpetually on the brakes, occassionally passing by unfortunate victims of car collisions along shoulders of the road. While the frequent collisions are a source of inconvenience to those traversing Seattle streets, these collisions are also a growing concern for legal and medical professionals. These groups must assess the number of preventable human fatalities, the economic impact of traffic delays, the dollar value of property damage, and the strain imposed on emergency care resources. \n",
    "\n",
    "The purpose of the this model is to predict car accident severity using best-practice machine learning techniques. \n",
    "\n",
    "As previously stated, the target audiences are:\n",
    "<li><B>Seattle Lawmakers</B>: Provides lawmakers with data that can directly influence policy (ex. speed limits, tolling regulations, stop signs, DUI checkpoints) </li>\n",
    "<li><B>Insurance Companies</B>: Provides insurance companies with cross-sectional probabilities of damage that directly impact inusrance premiums.</li>\n",
    "<li><B>Medical Providers</B>: Provides medical providers a proactive model for staffing, medical supply procurement, and triage care.</li>"
   ]
  },
  {
   "cell_type": "markdown",
   "metadata": {},
   "source": [
    "<font size=\"+1\"><I> Data Overview </I></font>\n",
    "\n",
    "<b>Data Owner</b>: Seattle of Seattle, SDOT Traffic Management Division.<br>\n",
    "<b>Dates</b>: <i>Min</i>: 02/15/2006; <i>Max</i>: 05/20/2020<br>\n",
    "<b>Features in Dataset</b>: 37<br>\n",
    "<b>Dependent Variable</b>: SEVERITYCODE<br>\n",
    "Raw Data can be viewed <a href=\"https://s3.us.cloud-object-storage.appdomain.cloud/cf-courses-data/CognitiveClass/DP0701EN/version-2/Data-Collisions.csv\">here.</a><br>\n",
    "Metadata can be viewed <a href=\"https://s3.us.cloud-object-storage.appdomain.cloud/cf-courses-data/CognitiveClass/DP0701EN/version-2/Metadata.pdf\">here.</a>\n",
    "\n"
   ]
  },
  {
   "cell_type": "markdown",
   "metadata": {},
   "source": [
    "<center><font size=\"+0\"><B> Features Selected for Severity Model </B></font></center>\n",
    "\n",
    "<table align=\"left\">\n",
    "<table width=\"384\">\n",
    "<tbody>\n",
    "<tr>\n",
    "<td width=\"125\">Feature</td>\n",
    "<td width=\"259\">Description</td>\n",
    "</tr>\n",
    "<tr>\n",
    "<td>ADDRTYPE</td>\n",
    "<td>alley, block, intersection</td>\n",
    "</tr>\n",
    "<tr>\n",
    "<td>PERSONCOUNT</td>\n",
    "<td># of people involved</td>\n",
    "</tr>\n",
    "<tr>\n",
    "<td>PEDCOUNT</td>\n",
    "<td># of pedestrians involved</td>\n",
    "</tr>\n",
    "<tr>\n",
    "<td>PEDCYLCOUNT</td>\n",
    "<td># of cyclists involved</td>\n",
    "</tr>\n",
    "<tr>\n",
    "<td>VEHCOUNT</td>\n",
    "<td># of vehicle involved</td>\n",
    "</tr>\n",
    "<tr>\n",
    "<td>INATTENTIONIND</td>\n",
    "<td>distracted flag</td>\n",
    "</tr>\n",
    "<tr>\n",
    "<td>WEATHER</td>\n",
    "<td>raining, overcast, clear, snow, etc.</td>\n",
    "</tr>\n",
    "<tr>\n",
    "<td>ROADCOND</td>\n",
    "<td>dry, ice, oil, snow, sand, wet, etc.</td>\n",
    "</tr>\n",
    "<tr>\n",
    "<td>LIGHTCOND</td>\n",
    "<td>dark, dawn, daylight, dusk etc.</td>\n",
    "</tr>\n",
    "<tr>\n",
    "<td>PEDROWNOTGRNT</td>\n",
    "<td>pedestrian right of way flag</td>\n",
    "</tr>\n",
    "<tr>\n",
    "<td>SPEEDING</td>\n",
    "<td>speeding flag</td>\n",
    "</tr>\n",
    "<tr>\n",
    "<td>ST_COLCODE</td>\n",
    "<td>collision code, see collision table</td>\n",
    "</tr>\n",
    "<tr>\n",
    "<td>HITPARKEDCAR</td>\n",
    "<td>hit parked car flag</td>\n",
    "</tr>\n",
    "<tr>\n",
    "<td>INCDTTM</td>\n",
    "<td>date and time of incident (to be parsed)</td>\n",
    "</tr>\n",
    "</tbody>\n",
    "</table>"
   ]
  },
  {
   "cell_type": "markdown",
   "metadata": {},
   "source": [
    "Each of feature above, we hypothesize that each of these categories have a direct impact on severity. As we continue to to consruct the model, these features may change if statistical significance is not found."
   ]
  },
  {
   "cell_type": "markdown",
   "metadata": {},
   "source": [
    "<center><font size=\"+0\"><b> Sample Data </b></font></center>"
   ]
  },
  {
   "cell_type": "code",
   "execution_count": 17,
   "metadata": {},
   "outputs": [],
   "source": [
    "#Import libraries\n",
    "import pandas as pd\n",
    "import numpy as np\n",
    "import matplotlib.pyplot as plt\n",
    "%matplotlib inline\n",
    "import json"
   ]
  },
  {
   "cell_type": "code",
   "execution_count": null,
   "metadata": {},
   "outputs": [],
   "source": [
    "#Read Raw Data\n",
    "collision_data = pd.read_csv('https://s3.us.cloud-object-storage.appdomain.cloud/cf-courses-data/CognitiveClass/DP0701EN/version-2/Data-Collisions.csv')"
   ]
  },
  {
   "cell_type": "code",
   "execution_count": null,
   "metadata": {},
   "outputs": [],
   "source": [
    "#Reduce Raw Data to Relevant Features\n",
    "featureframe = pd.DataFrame(collision_data,columns=['ADDRTYPE','PERSONCOUNT','PEDCOUNT','PEDCYLCOUNT','VEHCOUNT','INATTENTIONIND', 'WEATHER', 'ROADCOND', 'LIGHTCOND', 'PEDROWNOTGRNT', 'SPEEDING', 'ST_COLCODE', 'HITPARKEDCAR', 'INCDTTM'])\n",
    "featureframe"
   ]
  },
  {
   "cell_type": "code",
   "execution_count": null,
   "metadata": {},
   "outputs": [],
   "source": []
  }
 ],
 "metadata": {
  "kernelspec": {
   "display_name": "Python 3",
   "language": "python",
   "name": "python3"
  },
  "language_info": {
   "codemirror_mode": {
    "name": "ipython",
    "version": 3
   },
   "file_extension": ".py",
   "mimetype": "text/x-python",
   "name": "python",
   "nbconvert_exporter": "python",
   "pygments_lexer": "ipython3",
   "version": "3.7.6"
  }
 },
 "nbformat": 4,
 "nbformat_minor": 4
}
